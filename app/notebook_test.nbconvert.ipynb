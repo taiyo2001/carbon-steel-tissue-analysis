{
 "cells": [
  {
   "cell_type": "code",
   "execution_count": 1,
   "metadata": {
    "colab": {
     "base_uri": "https://localhost:8080/"
    },
    "execution": {
     "iopub.execute_input": "2023-06-26T05:00:35.113750Z",
     "iopub.status.busy": "2023-06-26T05:00:35.113259Z",
     "iopub.status.idle": "2023-06-26T05:00:37.645497Z",
     "shell.execute_reply": "2023-06-26T05:00:37.644188Z"
    },
    "executionInfo": {
     "elapsed": 2391,
     "status": "ok",
     "timestamp": 1686121112493,
     "user": {
      "displayName": "佐藤太洋",
      "userId": "13036286077109574300"
     },
     "user_tz": -540
    },
    "id": "-QrsJIci8koH",
    "outputId": "3b30de66-738b-4da7-c407-3afbab457d3f"
   },
   "outputs": [],
   "source": [
    "# 適宜自分のApplicationPATHまで変更\n",
    "# APP_PATH = '/content/drive/Othercomputers/LAPTOP-3BHDM0TI/windows_research/workspace/research/carbon-steel-tissue-analysis'\n",
    "APP_PATH = '.'\n",
    "\n",
    "# import os\n",
    "# import time\n",
    "# import copy\n",
    "# from collections import defaultdict\n",
    "import torch\n",
    "# import shutil\n",
    "# import pandas as pd\n",
    "from skimage import io, transform # scikit-image\n",
    "import numpy as np\n",
    "from PIL import Image\n",
    "import matplotlib.pyplot as plt\n",
    "from torch.utils.data import Dataset, DataLoader, random_split\n",
    "from torchvision import transforms, utils # 現時点では使ってない\n",
    "from torch import nn\n",
    "import albumentations as alb\n",
    "from albumentations.pytorch import ToTensorV2\n",
    "from tqdm import tqdm as tqdm\n",
    "\n",
    "from albumentations import (HorizontalFlip, ShiftScaleRotate, Normalize, Resize, Compose, GaussNoise)\n",
    "import cv2\n",
    "\n",
    "from torch.autograd import Variable\n",
    "from torch.nn import Linear, ReLU, CrossEntropyLoss, Sequential, Conv2d, MaxPool2d, Module, Softmax, BatchNorm2d, Dropout\n",
    "from torch.optim import Adam, SGD\n",
    "import torch.nn.functional as F\n",
    "# import zipfile\n",
    "\n",
    "import random # 標準モジュールだからinstall不要\n",
    "\n",
    "\n",
    "device = torch.device('cuda:0' if torch.cuda.is_available() else 'cpu')\n",
    "\n",
    "TRAIN_PATH = APP_PATH + '/data/img'\n",
    "CHECKPOINT_PATH = APP_PATH + '/data/model'\n",
    "\n",
    "# os.chdir(APP_PATH)"
   ]
  },
  {
   "cell_type": "code",
   "execution_count": 2,
   "metadata": {
    "execution": {
     "iopub.execute_input": "2023-06-26T05:00:37.650253Z",
     "iopub.status.busy": "2023-06-26T05:00:37.649915Z",
     "iopub.status.idle": "2023-06-26T05:00:37.655307Z",
     "shell.execute_reply": "2023-06-26T05:00:37.654304Z"
    },
    "id": "84ezOFPzemHY"
   },
   "outputs": [
    {
     "name": "stdout",
     "output_type": "stream",
     "text": [
      "exec OK\n"
     ]
    }
   ],
   "source": [
    "print('exec OK')"
   ]
  }
 ],
 "metadata": {
  "accelerator": "GPU",
  "colab": {
   "gpuType": "T4",
   "provenance": []
  },
  "gpuClass": "standard",
  "kernelspec": {
   "display_name": "Python 3",
   "name": "python3"
  },
  "language_info": {
   "codemirror_mode": {
    "name": "ipython",
    "version": 3
   },
   "file_extension": ".py",
   "mimetype": "text/x-python",
   "name": "python",
   "nbconvert_exporter": "python",
   "pygments_lexer": "ipython3",
   "version": "3.10.12"
  }
 },
 "nbformat": 4,
 "nbformat_minor": 0
}
