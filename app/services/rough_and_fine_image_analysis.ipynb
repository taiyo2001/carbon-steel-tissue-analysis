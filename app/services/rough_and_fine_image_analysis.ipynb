{
 "cells": [
  {
   "cell_type": "markdown",
   "metadata": {},
   "source": [
    "# 組織の抽出"
   ]
  },
  {
   "cell_type": "markdown",
   "metadata": {},
   "source": [
    "### フェライトの解析"
   ]
  },
  {
   "cell_type": "code",
   "execution_count": 3,
   "metadata": {},
   "outputs": [
    {
     "name": "stdout",
     "output_type": "stream",
     "text": [
      "stdout: b'/home/g2012051/workspace/carbon-steel-tissue-analysis-station/app/services\\n'\n"
     ]
    },
    {
     "ename": "FileNotFoundError",
     "evalue": "[Errno 2] No such file or directory: 'source ./../../bin/setup.sh'",
     "output_type": "error",
     "traceback": [
      "\u001b[0;31m---------------------------------------------------------------------------\u001b[0m",
      "\u001b[0;31mFileNotFoundError\u001b[0m                         Traceback (most recent call last)",
      "\u001b[0;32m<ipython-input-3-9aaf0cc78b7b>\u001b[0m in \u001b[0;36m<module>\u001b[0;34m\u001b[0m\n\u001b[1;32m      5\u001b[0m \u001b[0;34m\u001b[0m\u001b[0m\n\u001b[1;32m      6\u001b[0m \u001b[0;34m\u001b[0m\u001b[0m\n\u001b[0;32m----> 7\u001b[0;31m \u001b[0mcp\u001b[0m \u001b[0;34m=\u001b[0m \u001b[0msubprocess\u001b[0m\u001b[0;34m.\u001b[0m\u001b[0mrun\u001b[0m\u001b[0;34m(\u001b[0m\u001b[0;34m\"source ./../../bin/setup.sh\"\u001b[0m\u001b[0;34m,\u001b[0m \u001b[0mcapture_output\u001b[0m\u001b[0;34m=\u001b[0m\u001b[0;32mTrue\u001b[0m\u001b[0;34m)\u001b[0m\u001b[0;34m\u001b[0m\u001b[0;34m\u001b[0m\u001b[0m\n\u001b[0m\u001b[1;32m      8\u001b[0m \u001b[0mprint\u001b[0m\u001b[0;34m(\u001b[0m\u001b[0;34m\"stdout:\"\u001b[0m\u001b[0;34m,\u001b[0m \u001b[0mcp\u001b[0m\u001b[0;34m.\u001b[0m\u001b[0mstdout\u001b[0m\u001b[0;34m)\u001b[0m\u001b[0;34m\u001b[0m\u001b[0;34m\u001b[0m\u001b[0m\n\u001b[1;32m      9\u001b[0m \u001b[0;34m\u001b[0m\u001b[0m\n",
      "\u001b[0;32m/usr/lib/python3.8/subprocess.py\u001b[0m in \u001b[0;36mrun\u001b[0;34m(input, capture_output, timeout, check, *popenargs, **kwargs)\u001b[0m\n\u001b[1;32m    491\u001b[0m         \u001b[0mkwargs\u001b[0m\u001b[0;34m[\u001b[0m\u001b[0;34m'stderr'\u001b[0m\u001b[0;34m]\u001b[0m \u001b[0;34m=\u001b[0m \u001b[0mPIPE\u001b[0m\u001b[0;34m\u001b[0m\u001b[0;34m\u001b[0m\u001b[0m\n\u001b[1;32m    492\u001b[0m \u001b[0;34m\u001b[0m\u001b[0m\n\u001b[0;32m--> 493\u001b[0;31m     \u001b[0;32mwith\u001b[0m \u001b[0mPopen\u001b[0m\u001b[0;34m(\u001b[0m\u001b[0;34m*\u001b[0m\u001b[0mpopenargs\u001b[0m\u001b[0;34m,\u001b[0m \u001b[0;34m**\u001b[0m\u001b[0mkwargs\u001b[0m\u001b[0;34m)\u001b[0m \u001b[0;32mas\u001b[0m \u001b[0mprocess\u001b[0m\u001b[0;34m:\u001b[0m\u001b[0;34m\u001b[0m\u001b[0;34m\u001b[0m\u001b[0m\n\u001b[0m\u001b[1;32m    494\u001b[0m         \u001b[0;32mtry\u001b[0m\u001b[0;34m:\u001b[0m\u001b[0;34m\u001b[0m\u001b[0;34m\u001b[0m\u001b[0m\n\u001b[1;32m    495\u001b[0m             \u001b[0mstdout\u001b[0m\u001b[0;34m,\u001b[0m \u001b[0mstderr\u001b[0m \u001b[0;34m=\u001b[0m \u001b[0mprocess\u001b[0m\u001b[0;34m.\u001b[0m\u001b[0mcommunicate\u001b[0m\u001b[0;34m(\u001b[0m\u001b[0minput\u001b[0m\u001b[0;34m,\u001b[0m \u001b[0mtimeout\u001b[0m\u001b[0;34m=\u001b[0m\u001b[0mtimeout\u001b[0m\u001b[0;34m)\u001b[0m\u001b[0;34m\u001b[0m\u001b[0;34m\u001b[0m\u001b[0m\n",
      "\u001b[0;32m/usr/lib/python3.8/subprocess.py\u001b[0m in \u001b[0;36m__init__\u001b[0;34m(self, args, bufsize, executable, stdin, stdout, stderr, preexec_fn, close_fds, shell, cwd, env, universal_newlines, startupinfo, creationflags, restore_signals, start_new_session, pass_fds, encoding, errors, text)\u001b[0m\n\u001b[1;32m    856\u001b[0m                             encoding=encoding, errors=errors)\n\u001b[1;32m    857\u001b[0m \u001b[0;34m\u001b[0m\u001b[0m\n\u001b[0;32m--> 858\u001b[0;31m             self._execute_child(args, executable, preexec_fn, close_fds,\n\u001b[0m\u001b[1;32m    859\u001b[0m                                 \u001b[0mpass_fds\u001b[0m\u001b[0;34m,\u001b[0m \u001b[0mcwd\u001b[0m\u001b[0;34m,\u001b[0m \u001b[0menv\u001b[0m\u001b[0;34m,\u001b[0m\u001b[0;34m\u001b[0m\u001b[0;34m\u001b[0m\u001b[0m\n\u001b[1;32m    860\u001b[0m                                 \u001b[0mstartupinfo\u001b[0m\u001b[0;34m,\u001b[0m \u001b[0mcreationflags\u001b[0m\u001b[0;34m,\u001b[0m \u001b[0mshell\u001b[0m\u001b[0;34m,\u001b[0m\u001b[0;34m\u001b[0m\u001b[0;34m\u001b[0m\u001b[0m\n",
      "\u001b[0;32m/usr/lib/python3.8/subprocess.py\u001b[0m in \u001b[0;36m_execute_child\u001b[0;34m(self, args, executable, preexec_fn, close_fds, pass_fds, cwd, env, startupinfo, creationflags, shell, p2cread, p2cwrite, c2pread, c2pwrite, errread, errwrite, restore_signals, start_new_session)\u001b[0m\n\u001b[1;32m   1702\u001b[0m                     \u001b[0;32mif\u001b[0m \u001b[0merrno_num\u001b[0m \u001b[0;34m!=\u001b[0m \u001b[0;36m0\u001b[0m\u001b[0;34m:\u001b[0m\u001b[0;34m\u001b[0m\u001b[0;34m\u001b[0m\u001b[0m\n\u001b[1;32m   1703\u001b[0m                         \u001b[0merr_msg\u001b[0m \u001b[0;34m=\u001b[0m \u001b[0mos\u001b[0m\u001b[0;34m.\u001b[0m\u001b[0mstrerror\u001b[0m\u001b[0;34m(\u001b[0m\u001b[0merrno_num\u001b[0m\u001b[0;34m)\u001b[0m\u001b[0;34m\u001b[0m\u001b[0;34m\u001b[0m\u001b[0m\n\u001b[0;32m-> 1704\u001b[0;31m                     \u001b[0;32mraise\u001b[0m \u001b[0mchild_exception_type\u001b[0m\u001b[0;34m(\u001b[0m\u001b[0merrno_num\u001b[0m\u001b[0;34m,\u001b[0m \u001b[0merr_msg\u001b[0m\u001b[0;34m,\u001b[0m \u001b[0merr_filename\u001b[0m\u001b[0;34m)\u001b[0m\u001b[0;34m\u001b[0m\u001b[0;34m\u001b[0m\u001b[0m\n\u001b[0m\u001b[1;32m   1705\u001b[0m                 \u001b[0;32mraise\u001b[0m \u001b[0mchild_exception_type\u001b[0m\u001b[0;34m(\u001b[0m\u001b[0merr_msg\u001b[0m\u001b[0;34m)\u001b[0m\u001b[0;34m\u001b[0m\u001b[0;34m\u001b[0m\u001b[0m\n\u001b[1;32m   1706\u001b[0m \u001b[0;34m\u001b[0m\u001b[0m\n",
      "\u001b[0;31mFileNotFoundError\u001b[0m: [Errno 2] No such file or directory: 'source ./../../bin/setup.sh'"
     ]
    }
   ],
   "source": [
    "import cv2\n",
    "from module import tissue_analysis as analysis # display_input_label_pre_image, exec_ferrite_analysis, exec_expansion_ferrite_analysis, exec_perlite_analysis\n",
    "\n",
    "EXPANSION = 11\n",
    "\n",
    "# rough image\n",
    "print('rough image S10C')\n",
    "rough_image_input_S10C = cv2.imread('../../tmp/img_rough/202312161957/Input_Image_No_1.png')\n",
    "rough_image_label_S10C = cv2.imread('../../tmp/img_rough/202312161957/Label_Mask_No_1.png')\n",
    "rough_image_predicted_S10C = cv2.imread('../../tmp/img_rough/202312161957/Predicted_Mask_No_1.png')\n",
    "analysis.display_input_label_pre_image(rough_image_input_S10C, rough_image_label_S10C, rough_image_predicted_S10C, 'S10C No.1')\n",
    "analysis.exec_ferrite_analysis(rough_image_predicted_S10C)\n",
    "\n",
    "print('rough image S25C')\n",
    "rough_image_input_S25C = cv2.imread('../../tmp/img_rough/202312161957/Input_Image_No_21.png')\n",
    "rough_image_label_S25C = cv2.imread('../../tmp/img_rough/202312161957/Label_Mask_No_21.png')\n",
    "rough_image_predicted_S25C = cv2.imread('../../tmp/img_rough/202312161957/Predicted_Mask_No_21.png')\n",
    "analysis.display_input_label_pre_image(rough_image_input_S25C, rough_image_label_S25C, rough_image_predicted_S25C, 'S25C No.1')\n",
    "analysis.exec_ferrite_analysis(rough_image_predicted_S25C)\n",
    "\n",
    "print('rough image S45C')\n",
    "rough_image_input_S45C = cv2.imread('../../tmp/img_rough/202312161957/Input_Image_No_41.png')\n",
    "rough_image_label_S45C = cv2.imread('../../tmp/img_rough/202312161957/Label_Mask_No_41.png')\n",
    "rough_image_predicted_S45C = cv2.imread('../../tmp/img_rough/202312161957/Predicted_Mask_No_41.png')\n",
    "analysis.display_input_label_pre_image(rough_image_input_S45C, rough_image_label_S45C, rough_image_predicted_S45C, 'S45C No.1')\n",
    "analysis.exec_ferrite_analysis(rough_image_predicted_S45C)\n",
    "\n",
    "\n",
    "# fine image\n",
    "print('fine image S10C')\n",
    "fine_image_input_S10C = cv2.imread('../../tmp/img_fine/202312162007/Input_Image_No_1.png')\n",
    "fine_image_label_S10C = cv2.imread('../../tmp/img_fine/202312162007/Label_Mask_No_1.png')\n",
    "fine_image_predicted_S10C = cv2.imread('../../tmp/img_fine/202312162007/Predicted_Mask_No_1.png')\n",
    "analysis.display_input_label_pre_image(fine_image_input_S10C, fine_image_label_S10C, fine_image_predicted_S10C, 'S10C No.1')\n",
    "analysis.exec_ferrite_analysis(fine_image_predicted_S10C, expansion=EXPANSION)\n",
    "\n",
    "print('fine image S25C')\n",
    "fine_image_input_S25C = cv2.imread('../../tmp/img_fine/202312162007/Input_Image_No_21.png')\n",
    "fine_image_label_S25C = cv2.imread('../../tmp/img_fine/202312162007/Label_Mask_No_21.png')\n",
    "fine_image_predicted_S25C = cv2.imread('../../tmp/img_fine/202312162007/Predicted_Mask_No_21.png')\n",
    "analysis.display_input_label_pre_image(fine_image_input_S25C, fine_image_label_S25C, fine_image_predicted_S25C, 'S25C No.1')\n",
    "analysis.exec_ferrite_analysis(fine_image_predicted_S25C, expansion=EXPANSION)\n",
    "\n",
    "print('fine image S45C')\n",
    "fine_image_input_S45C = cv2.imread('../../tmp/img_fine/202312162007/Input_Image_No_41.png')\n",
    "fine_image_label_S45C = cv2.imread('../../tmp/img_fine/202312162007/Label_Mask_No_41.png')\n",
    "fine_image_predicted_S45C = cv2.imread('../../tmp/img_fine/202312162007/Predicted_Mask_No_41.png')\n",
    "analysis.display_input_label_pre_image(fine_image_input_S45C, fine_image_label_S45C, fine_image_predicted_S45C, 'S45C No.1')\n",
    "analysis.exec_ferrite_analysis(fine_image_predicted_S45C, expansion=EXPANSION)\n"
   ]
  },
  {
   "cell_type": "markdown",
   "metadata": {},
   "source": [
    "### パーライトの解析"
   ]
  },
  {
   "cell_type": "code",
   "execution_count": 1,
   "metadata": {},
   "outputs": [
    {
     "ename": "ModuleNotFoundError",
     "evalue": "No module named 'module'",
     "output_type": "error",
     "traceback": [
      "\u001b[0;31m---------------------------------------------------------------------------\u001b[0m",
      "\u001b[0;31mModuleNotFoundError\u001b[0m                       Traceback (most recent call last)",
      "\u001b[0;32m<ipython-input-1-20a4cc47ab38>\u001b[0m in \u001b[0;36m<module>\u001b[0;34m\u001b[0m\n\u001b[1;32m     96\u001b[0m \u001b[0;34m\u001b[0m\u001b[0m\n\u001b[1;32m     97\u001b[0m \u001b[0;34m\u001b[0m\u001b[0m\n\u001b[0;32m---> 98\u001b[0;31m \u001b[0;32mfrom\u001b[0m \u001b[0mmodule\u001b[0m \u001b[0;32mimport\u001b[0m \u001b[0mexec_perlite_analysis2\u001b[0m\u001b[0;34m\u001b[0m\u001b[0;34m\u001b[0m\u001b[0m\n\u001b[0m\u001b[1;32m     99\u001b[0m \u001b[0;34m\u001b[0m\u001b[0m\n\u001b[1;32m    100\u001b[0m \u001b[0mexec_perlite_analysis2\u001b[0m\u001b[0;34m(\u001b[0m\u001b[0mfull_image_predicted_S10C\u001b[0m\u001b[0;34m)\u001b[0m\u001b[0;34m\u001b[0m\u001b[0;34m\u001b[0m\u001b[0m\n",
      "\u001b[0;31mModuleNotFoundError\u001b[0m: No module named 'module'"
     ]
    }
   ],
   "source": [
    "import cv2\n",
    "from module import tissue_analysis as analysis # display_input_label_pre_image, exec_ferrite_analysis, exec_perlite_analysis\n",
    "\n",
    "# rough image\n",
    "print('rough image S10C')\n",
    "rough_image_input_S10C = cv2.imread('../../tmp/img_rough/202312161957/Input_Image_No_1.png')\n",
    "rough_image_label_S10C = cv2.imread('../../tmp/img_rough/202312161957/Label_Mask_No_1.png')\n",
    "rough_image_predicted_S10C = cv2.imread('../../tmp/img_rough/202312161957/Predicted_Mask_No_1.png')\n",
    "analysis.display_input_label_pre_image(rough_image_input_S10C, rough_image_label_S10C, rough_image_predicted_S10C, 'S10C No.1')\n",
    "analysis.exec_perlite_analysis(rough_image_predicted_S10C)\n",
    "\n",
    "print('rough image S25C')\n",
    "rough_image_input_S25C = cv2.imread('../../tmp/img_rough/202312161957/Input_Image_No_21.png')\n",
    "rough_image_label_S25C = cv2.imread('../../tmp/img_rough/202312161957/Label_Mask_No_21.png')\n",
    "rough_image_predicted_S25C = cv2.imread('../../tmp/img_rough/202312161957/Predicted_Mask_No_21.png')\n",
    "analysis.display_input_label_pre_image(rough_image_input_S25C, rough_image_label_S25C, rough_image_predicted_S25C, 'S25C No.1')\n",
    "analysis.exec_perlite_analysis(rough_image_predicted_S25C)\n",
    "\n",
    "print('rough image S45C')\n",
    "rough_image_input_S45C = cv2.imread('../../tmp/img_rough/202312161957/Input_Image_No_41.png')\n",
    "rough_image_label_S45C = cv2.imread('../../tmp/img_rough/202312161957/Label_Mask_No_41.png')\n",
    "rough_image_predicted_S45C = cv2.imread('../../tmp/img_rough/202312161957/Predicted_Mask_No_41.png')\n",
    "analysis.display_input_label_pre_image(rough_image_input_S45C, rough_image_label_S45C, rough_image_predicted_S45C, 'S45C No.1')\n",
    "analysis.exec_perlite_analysis(rough_image_predicted_S45C)\n",
    "\n",
    "\n",
    "# fine image\n",
    "print('fine image S10C')\n",
    "fine_image_input_S10C = cv2.imread('../../tmp/img_fine/202312162007/Input_Image_No_1.png')\n",
    "fine_image_label_S10C = cv2.imread('../../tmp/img_fine/202312162007/Label_Mask_No_1.png')\n",
    "fine_image_predicted_S10C = cv2.imread('../../tmp/img_fine/202312162007/Predicted_Mask_No_1.png')\n",
    "analysis.display_input_label_pre_image(fine_image_input_S10C, fine_image_label_S10C, fine_image_predicted_S10C, 'S10C No.1')\n",
    "analysis.exec_perlite_analysis(fine_image_predicted_S10C)\n",
    "\n",
    "print('fine image S25C')\n",
    "fine_image_input_S25C = cv2.imread('../../tmp/img_fine/202312162007/Input_Image_No_21.png')\n",
    "fine_image_label_S25C = cv2.imread('../../tmp/img_fine/202312162007/Label_Mask_No_21.png')\n",
    "fine_image_predicted_S25C = cv2.imread('../../tmp/img_fine/202312162007/Predicted_Mask_No_21.png')\n",
    "analysis.display_input_label_pre_image(fine_image_input_S25C, fine_image_label_S25C, fine_image_predicted_S25C, 'S25C No.1')\n",
    "analysis.exec_perlite_analysis(fine_image_predicted_S25C)\n",
    "\n",
    "print('fine image S45C')\n",
    "fine_image_input_S45C = cv2.imread('../../tmp/img_fine/202312162007/Input_Image_No_41.png')\n",
    "fine_image_label_S45C = cv2.imread('../../tmp/img_fine/202312162007/Label_Mask_No_41.png')\n",
    "fine_image_predicted_S45C = cv2.imread('../../tmp/img_fine/202312162007/Predicted_Mask_No_41.png')\n",
    "analysis.display_input_label_pre_image(fine_image_input_S45C, fine_image_label_S45C, fine_image_predicted_S45C, 'S45C No.1')\n",
    "analysis.exec_perlite_analysis(fine_image_predicted_S45C)\n"
   ]
  }
 ],
 "metadata": {
  "kernelspec": {
   "display_name": "Python 3",
   "language": "python",
   "name": "python3"
  },
  "language_info": {
   "codemirror_mode": {
    "name": "ipython",
    "version": 3
   },
   "file_extension": ".py",
   "mimetype": "text/x-python",
   "name": "python",
   "nbconvert_exporter": "python",
   "pygments_lexer": "ipython3",
   "version": "3.8.10"
  },
  "orig_nbformat": 4
 },
 "nbformat": 4,
 "nbformat_minor": 2
}
